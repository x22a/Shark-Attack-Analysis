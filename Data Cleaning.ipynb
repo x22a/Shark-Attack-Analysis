{
 "cells": [
  {
   "cell_type": "code",
   "execution_count": 2,
   "metadata": {
    "pycharm": {
     "is_executing": false,
     "name": "#%%\n"
    }
   },
   "outputs": [],
   "source": [
    "from typing import Any, Union\n",
    "import pandas as pd\n",
    "import re   \n",
    "import matplotlib\n",
    "import matplotlib.pyplot as plt\n",
    "\n",
    "\n",
    "#Read data from csv\n",
    "\n",
    "df = pd.read_csv('input/GSAF5.csv', engine = 'python')"
   ]
  },
  {
   "cell_type": "code",
   "execution_count": 3,
   "metadata": {
    "pycharm": {
     "is_executing": false,
     "name": "#%%\n"
    }
   },
   "outputs": [],
   "source": [
    "#Change display options\n",
    "#pd.set_option('display.max_rows', 6000)\n",
    "#pd.set_option('display.max_columns', 500)\n",
    "\n"
   ]
  },
  {
   "cell_type": "code",
   "execution_count": 4,
   "metadata": {
    "pycharm": {
     "is_executing": false,
     "name": "#%%\n"
    }
   },
   "outputs": [],
   "source": [
    "#Remove two columns with no data\n",
    "\n",
    "df = df.drop(columns = ['Unnamed: 22', 'Unnamed: 23'])"
   ]
  },
  {
   "cell_type": "code",
   "execution_count": 5,
   "metadata": {
    "pycharm": {
     "is_executing": false,
     "name": "#%%\n"
    }
   },
   "outputs": [
    {
     "data": {
      "text/plain": "True     5990\nFalse       2\ndtype: int64"
     },
     "metadata": {},
     "output_type": "execute_result",
     "execution_count": 5
    }
   ],
   "source": [
    "#Checking values in 'Case Number', 'Case Number.1' and 'Case Number.2'\n",
    "\n",
    "cNcN1 = (df['Case Number'].eq(df['Case Number.1'])) # Differences between 'Case Number' and 'Case Number.1'\n",
    "\n",
    "cNcN1.value_counts() # 13 different values\n",
    "\n",
    "cNcN2 = (df['Case Number'].eq(df['Case Number.2'])) # Differences between 'Case Number' and 'Case Number.2'\n",
    "\n",
    "cNcN2.value_counts() # 2 different values"
   ]
  },
  {
   "cell_type": "code",
   "execution_count": 6,
   "metadata": {
    "pycharm": {
     "is_executing": false,
     "name": "#%%\n"
    }
   },
   "outputs": [],
   "source": [
    "# Remove both columns from previous case\n",
    "\n",
    "df = df.drop(columns = ['Case Number.1', 'Case Number.2'])\n",
    "\n"
   ]
  },
  {
   "cell_type": "code",
   "execution_count": 7,
   "metadata": {
    "pycharm": {
     "is_executing": false,
     "name": "#%%\n"
    }
   },
   "outputs": [],
   "source": [
    "#Standarize date values to 'Month' and 'Year'\n",
    "months = df['Date']\n",
    "monthList = []\n",
    "for month in months: \n",
    "    correctMonth = re.search(r'[A-Z]{1}[a-z]{2}\\b', month)\n",
    "    if correctMonth:\n",
    "        monthList.append(correctMonth.group())\n",
    "    else:\n",
    "        monthList.append('')\n",
    "monthSeries = pd.Series(monthList)\n",
    "df['Date'] = monthSeries\n"
   ]
  },
  {
   "cell_type": "code",
   "execution_count": 8,
   "metadata": {
    "pycharm": {
     "is_executing": false,
     "name": "#%%\n"
    }
   },
   "outputs": [],
   "source": [
    "#Delete rows where 'Date' is not equal to a month, this removes about 540 registers from the original 5992, \n",
    "#which makes it less than the 10%.\n",
    "\n",
    "dfMonths = df[(df['Date'] == 'Jan') | (df['Date'] == 'Feb') | (df['Date'] == 'Mar') | (df['Date'] == 'Apr') | (df['Date'] == 'May') | (df['Date'] == 'Jun') | (df['Date'] == 'Jul') | (df['Date'] == 'Aug') | (df['Date'] == 'Sep') | (df['Date'] == 'Oct') | (df['Date'] == 'Nov') | (df['Date'] == 'Dec')]\n"
   ]
  },
  {
   "cell_type": "code",
   "execution_count": 9,
   "metadata": {
    "pycharm": {
     "is_executing": false,
     "name": "#%%\n"
    }
   },
   "outputs": [],
   "source": [
    "# Create a dictionary relating each country to the hemisphere it belongs\n",
    "hemisphere = {\n",
    "    'North': ['USA', 'BAHAMAS', 'MEXICO', 'ITALY', 'PHILIPPINES', 'SPAIN', 'EGYPT', 'CUBA', 'CROATIA', 'JAPAN', 'INDIA', 'PANAMA', 'JAMAICA', 'ENGLAND', 'GREECE', 'BERMUDA', 'IRAN', 'TURKEY', 'COSTA RICA', 'MARSHAL ISLANDS', 'VIETNAM', 'SENEGAL', 'UNITED KINGDOM', 'CANADA', 'TAIWAN', 'SCOTLAND', 'SIERRA LEONE', 'VENEZUELA', 'COLUMBIA', 'KENYA', 'FRANCE', 'ISRAEL', 'NORTH PACIFIC OCEAN', 'SOUTH COREA', 'DOMINICAN REPUBLIC', 'THAILAND', 'SOMALIA', 'CHINA', 'CARIBBEAN SEA', 'NEW BRITAIN', 'YEMEN', 'TURKS & CAICOS', 'SRI LANKA', 'MID ATLANTIC OCEAN', 'OKINAWA', 'MALTA', 'AZORES', 'BARBADOS', 'EL SALVADOR', 'RUSSIA', 'NICARAGUA' 'NORTH ATLANTIC OCEAN', 'MALAYSIA', 'GRENADA', 'SUDAN', 'PERSIAN GULF', 'PORTUGAL', 'SINGAPORE', 'CAPE VERDE', 'PALAU', 'HONDURAS', 'UNITED ARAB EMIRATES', 'SAUDI ARABIA', 'CENTRAL PACIFIC', 'HAITI', 'TRINIDAD & TOBAGO', 'IRAQ', 'CAYMAN ISLANDS', 'NORWAY', 'JOHNSTON ISLAND', 'LIBYA', 'YEMEN', 'BELIZE', 'TUNISIA', 'MONTENEGRO', 'BURMA', 'LIBERIA', 'NORTH SEA', 'PUERTO RICO', 'BRITISH WEST INDIES', 'EQUATORIAL GUINEA', 'NORTHEN MARIANA ISLANDS', 'PALESTINIAN TERRITORIES', 'NEVIS', 'KOREA', 'CYPRUS', 'ARUBA', 'ANDAMAN', 'SAN DOMINGO', 'BRITISH VIRGIN ISLANDS', 'NETHERLANDS ANTILLES', 'ITALY', 'JAVA', 'BAY OF BENGAL', 'GEORGIA', 'GUATEMALA', 'GULF OF ADEN', 'ST. MARTEEN', 'MALDIVE ISLANDS', 'MEDITERRANEAN SEA', 'BRITISH ISLES', 'ADMIRALTY ISLANDS', 'NORTHEN ARABIAN SEA', 'IRELAND', 'KUWAIT', 'MEXICO', 'LEBANON', 'THE BALKANS', 'GHANA', 'RED SEA', 'GUYANA', 'BANGLADESH', 'ANTIGUA', 'BETWEEN PORTUGAL AND INDIA', 'GUINEA', 'SOUTH CHINA SEA', 'ST. MARTIN'],\n",
    "    'South': ['AUSTRALIA', 'SOUTH AFRICA', 'NEW ZEALAND', 'BRAZIL', 'PAPUA NEW GUINEA', 'REUNION', 'FIJI', 'NEW CALEDONIA', 'MOZAMBIQUE', 'SOLOMON ISLANDS', 'HONG KONG', 'FRENCH POLYNESIA', 'INDONESIA', 'TONGA', 'SOUTH ATLANTIC OCEAN', 'VANUATU', 'CHILE', 'ECUADOR', 'INDIAN OCEAN ', 'TANZANIA', 'MAURITIUS', 'SAMOA', 'SEYCHELLES', 'KIRIBATI', 'GUAM', 'MADAGASCAR', 'MICRONESIA', 'AMERICAN SAMOA', 'NEW GUINEA', 'NAMIBIA', 'SOUTH PACIFIC OCEAN', 'FALKLAND ISLANDS', 'PARAGUAY', 'ARGENTINA', 'SOLOMON ISLANDS', 'PARAGUAY', 'ST HELENA', 'WESTERN SAMONA', 'GABON', 'DIEGO GARCIA', 'BRITISH NEW GUINEA', 'COOK ISLANDS', 'FEDERATED STATES OF', 'MAYOTTE', 'SOUTHWEST PACIFIC OCEAN', 'TASMAN SEA']\n",
    "}"
   ]
  },
  {
   "cell_type": "code",
   "execution_count": 10,
   "metadata": {
    "pycharm": {
     "is_executing": false,
     "name": "#%%\n"
    }
   },
   "outputs": [
    {
     "name": "stderr",
     "text": [
      "/usr/local/lib/python3.7/site-packages/ipykernel_launcher.py:11: SettingWithCopyWarning: \n",
      "A value is trying to be set on a copy of a slice from a DataFrame.\n",
      "Try using .loc[row_indexer,col_indexer] = value instead\n",
      "\n",
      "See the caveats in the documentation: http://pandas.pydata.org/pandas-docs/stable/user_guide/indexing.html#returning-a-view-versus-a-copy\n",
      "  # This is added back by InteractiveShellApp.init_path()\n"
     ],
     "output_type": "stream"
    }
   ],
   "source": [
    "#Extract the values of the countries to match them later with the hemisphere\n",
    "countries = dfMonths['Country'].fillna('NO COUNTRY DATA')\n",
    "okCountries = []\n",
    "for country in countries:\n",
    "    countryRe = re.search(r'[A-Za-z]+\\.?\\s*\\&*\\s*[A-Za-z]*\\s*\\&*\\s*[A-Za-z]*', country)\n",
    "    if countryRe:\n",
    "        okCountries.append(countryRe.group().upper())\n",
    "    else:\n",
    "        okCountries.append('')\n",
    "dfCountries = pd.Series(okCountries)\n",
    "dfMonths['Country'] = dfCountries"
   ]
  },
  {
   "cell_type": "code",
   "execution_count": 11,
   "metadata": {
    "pycharm": {
     "is_executing": false,
     "name": "#%%\n"
    }
   },
   "outputs": [],
   "source": [
    "#Create new Series to store the hemisphere values\n",
    "hemisphereList = []\n",
    "for coun in okCountries:\n",
    "    if coun in hemisphere['North']:\n",
    "        hemisphereList.append('North')\n",
    "    elif coun in hemisphere['South']:\n",
    "        hemisphereList.append('South')\n",
    "    else:\n",
    "        hemisphereList.append('Both hemispheres')\n",
    "\n",
    "serieHemisphere = pd.Series(hemisphereList)\n"
   ]
  },
  {
   "cell_type": "code",
   "execution_count": 12,
   "metadata": {
    "pycharm": {
     "is_executing": false,
     "name": "#%%\n"
    }
   },
   "outputs": [
    {
     "name": "stderr",
     "text": [
      "/usr/local/lib/python3.7/site-packages/ipykernel_launcher.py:2: SettingWithCopyWarning: \n",
      "A value is trying to be set on a copy of a slice from a DataFrame.\n",
      "Try using .loc[row_indexer,col_indexer] = value instead\n",
      "\n",
      "See the caveats in the documentation: http://pandas.pydata.org/pandas-docs/stable/user_guide/indexing.html#returning-a-view-versus-a-copy\n",
      "  \n",
      "/usr/local/lib/python3.7/site-packages/ipykernel_launcher.py:24: SettingWithCopyWarning: \n",
      "A value is trying to be set on a copy of a slice from a DataFrame.\n",
      "Try using .loc[row_indexer,col_indexer] = value instead\n",
      "\n",
      "See the caveats in the documentation: http://pandas.pydata.org/pandas-docs/stable/user_guide/indexing.html#returning-a-view-versus-a-copy\n"
     ],
     "output_type": "stream"
    }
   ],
   "source": [
    "#Asigning the numerical value of the month to be sorted later in order\n",
    "dfMonths['Hemisphere'] = serieHemisphere\n",
    "\n",
    "dfMonthHemisphere = dfMonths[['Country', 'Date', 'Hemisphere']]\n",
    "\n",
    "monthOrder = {\n",
    "    'Jan': 1,\n",
    "    'Feb': 2,\n",
    "    'Mar': 3, \n",
    "    'Apr': 4, \n",
    "    'May': 5,\n",
    "    'Jun': 6, \n",
    "    'Jul': 7, \n",
    "    'Aug': 8,\n",
    "    'Sep': 9, \n",
    "    'Oct': 10, \n",
    "    'Nov': 11, \n",
    "    'Dec': 12\n",
    "}\n",
    "monthOrderList = []\n",
    "for mon in dfMonthHemisphere['Date']:\n",
    "    monthOrderList.append(int(monthOrder[mon]))\n",
    "\n",
    "dfMonthHemisphere['MonthOrder'] = pd.Series(monthOrderList)\n",
    "\n"
   ]
  },
  {
   "cell_type": "code",
   "execution_count": 14,
   "outputs": [],
   "source": [
    "#Importing the dataframe as CSV.\n",
    "\n",
    "dfMonthHemisphere.to_csv('././output/CleanedCSV.csv')"
   ],
   "metadata": {
    "collapsed": false,
    "pycharm": {
     "name": "#%%\n",
     "is_executing": false
    }
   }
  },
  {
   "cell_type": "code",
   "execution_count": null,
   "metadata": {
    "pycharm": {
     "is_executing": false
    }
   },
   "outputs": [],
   "source": [
    "#Ploting the values for attacks depending on the month and the hemisphere\n",
    "\n",
    "plotDf = dfMonthHemisphere.groupby(['MonthOrder']).agg({'Hemisphere': 'value_counts'})\n",
    "\n",
    "barList = plotDf.plot.bar(figsize=(20,10))\n",
    "plt.xlabel('Meses')\n",
    "plt.ylabel('Nº Ataques')\n"
   ]
  },
  {
   "cell_type": "code",
   "execution_count": null,
   "outputs": [],
   "source": [
    "#I'm going to clean the Fatal (Y/N) column. Replace all NaN values with Unknown and homogenize the Y/N\n",
    "\n",
    "df['Fatal (Y/N)'].fillna('Unknown')\n",
    "attacks = df['Fatal (Y/N)'].astype('str')\n",
    "newFatal = []\n",
    "for attack in attacks:\n",
    "    okYN = re.search(r'[YN]{1}', attack)\n",
    "    if okYN:\n",
    "        newFatal.append(okYN.group())\n",
    "    else:\n",
    "        newFatal.append('Unknown')\n",
    "newFatalDf = pd.Series(newFatal)\n",
    "\n",
    "    \n"
   ],
   "metadata": {
    "collapsed": false,
    "pycharm": {
     "name": "#%%\n",
     "is_executing": false
    }
   }
  },
  {
   "cell_type": "code",
   "execution_count": null,
   "outputs": [],
   "source": [
    "#Plotting the Non Deathly attacks / Deathly attacks/ Unknown attacks\n",
    "df['Fatal (Y/N)'] = newFatalDf\n",
    "df.groupby('Fatal (Y/N)').agg({'Fatal (Y/N)':'count'}).plot.bar()\n"
   ],
   "metadata": {
    "collapsed": false,
    "pycharm": {
     "name": "#%%\n",
     "is_executing": false
    }
   }
  },
  {
   "cell_type": "code",
   "execution_count": null,
   "outputs": [],
   "source": [
    "#Renaming the Sex Series in order to remove the whitespace and casting it as str type\n",
    "df['Sex'] = df['Sex '].astype('str')\n",
    "#df['Sex'].value_counts()\n",
    "df = pd.DataFrame.drop(df, columns = ['Sex '])\n",
    "\n"
   ],
   "metadata": {
    "collapsed": false,
    "pycharm": {
     "name": "#%%\n",
     "is_executing": false
    }
   }
  },
  {
   "cell_type": "code",
   "execution_count": null,
   "outputs": [],
   "source": [
    "#Finding all cases where there was no data\n",
    "newSex = []\n",
    "for sex in df['Sex']:\n",
    "    sexOk = re.search(r'[MF]{1}', sex)\n",
    "    if sexOk:\n",
    "        newSex.append(sexOk.group())\n",
    "    else:\n",
    "        newSex.append('No data')\n",
    "df['Sex'] = pd.Series(newSex)\n",
    "df['Sex'].value_counts()\n",
    "\n"
   ],
   "metadata": {
    "collapsed": false,
    "pycharm": {
     "name": "#%%\n",
     "is_executing": false
    }
   }
  },
  {
   "cell_type": "code",
   "execution_count": null,
   "outputs": [],
   "source": [
    "df.groupby(['Sex']).agg({'Sex': 'count'}).plot.bar()\n",
    "\n",
    "\n"
   ],
   "metadata": {
    "collapsed": false,
    "pycharm": {
     "name": "#%%\n",
     "is_executing": false
    }
   }
  }
 ],
 "metadata": {
  "kernelspec": {
   "display_name": "Python 3",
   "language": "python",
   "name": "python3"
  },
  "language_info": {
   "codemirror_mode": {
    "name": "ipython",
    "version": 3
   },
   "file_extension": ".py",
   "mimetype": "text/x-python",
   "name": "python",
   "nbconvert_exporter": "python",
   "pygments_lexer": "ipython3",
   "version": "3.7.5"
  },
  "pycharm": {
   "stem_cell": {
    "cell_type": "raw",
    "source": [],
    "metadata": {
     "collapsed": false
    }
   }
  }
 },
 "nbformat": 4,
 "nbformat_minor": 1
}